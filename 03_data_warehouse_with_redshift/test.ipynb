{
 "cells": [
  {
   "cell_type": "code",
   "execution_count": 13,
   "metadata": {},
   "outputs": [
    {
     "name": "stdout",
     "output_type": "stream",
     "text": [
      "Dropped table\n",
      "Dropped table\n",
      "Dropped table\n",
      "Dropped table\n",
      "Dropped table\n",
      "Dropped table\n",
      "Dropped table\n",
      "Created table\n",
      "Created table\n",
      "Created table\n",
      "Created table\n",
      "Created table\n",
      "Created table\n",
      "Created table\n"
     ]
    }
   ],
   "source": [
    "!python create_tables.py\n"
   ]
  },
  {
   "cell_type": "code",
   "execution_count": 14,
   "metadata": {},
   "outputs": [
    {
     "name": "stdout",
     "output_type": "stream",
     "text": [
      "staged table\n",
      "staged table\n",
      "inserted table: \n",
      "\n",
      "INSERT INTO songplays (start_time, user_id, level, song_id, artist_id, session_id, location, user_agent)\n",
      "SELECT DISTINCT\n",
      "    TIMESTAMP 'epoch' + se.ts/1000 * INTERVAL '1 second' as setime,\n",
      "    se.userId,\n",
      "    se.level,\n",
      "    ss.song_id,\n",
      "    ss.artist_id,\n",
      "    se.sessionId,\n",
      "    se.location,\n",
      "    se.userAgent\n",
      "FROM staging_events se\n",
      "JOIN staging_songs ss\n",
      "    ON (se.song = ss.title)\n",
      "    AND (se.artist = ss.artist_name)\n",
      "WHERE se.page = 'NextSong'\n",
      "\n",
      "inserted table: \n",
      "\n",
      "INSERT INTO users (user_id, first_name, last_name, gender, level)\n",
      "SELECT DISTINCT\n",
      "    se.userId,\n",
      "    se.firstName,\n",
      "    se.lastName,\n",
      "    se.gender,\n",
      "    se.level\n",
      "FROM staging_events se\n",
      "WHERE se.page = 'NextSong'\n",
      "\n",
      "inserted table: \n",
      "\n",
      "INSERT into songs (song_id, title, artist_id, year, duration)\n",
      "SELECT DISTINCT\n",
      "    ss.song_id,\n",
      "    ss.title,\n",
      "    ss.artist_id,\n",
      "    ss.year,\n",
      "    ss.duration\n",
      "FROM staging_songs ss\n",
      "\n",
      "inserted table: \n",
      "\n",
      "INSERT INTO artists (artist_id, artist_name, artist_location, artist_latitude, artist_longitude)\n",
      "SELECT DISTINCT\n",
      "    ss.artist_id,\n",
      "    ss.artist_name,\n",
      "    ss.artist_location,\n",
      "    ss.artist_latitude,\n",
      "    ss.artist_longitude\n",
      "FROM staging_songs ss\n",
      "\n",
      "inserted table: \n",
      "\n",
      "INSERT INTO times (start_time, hour, day, week, month, year, weekday)\n",
      "SELECT DISTINCT\n",
      "    TIMESTAMP 'epoch' + se.ts/1000 * INTERVAL '1 second' as setime, \n",
      "    EXTRACT(HOUR FROM setime),\n",
      "    EXTRACT(DAY FROM setime),\n",
      "    EXTRACT(WEEK FROM setime),\n",
      "    EXTRACT(MONTH FROM setime),\n",
      "    EXTRACT(YEAR FROM setime),\n",
      "    EXTRACT(DOW FROM setime)\n",
      "FROM staging_events se\n",
      "WHERE se.page = 'NextSong'\n",
      "\n"
     ]
    }
   ],
   "source": [
    "!python etl.py"
   ]
  },
  {
   "cell_type": "code",
   "execution_count": null,
   "metadata": {},
   "outputs": [],
   "source": []
  }
 ],
 "metadata": {
  "kernelspec": {
   "display_name": "Python 3",
   "language": "python",
   "name": "python3"
  },
  "language_info": {
   "codemirror_mode": {
    "name": "ipython",
    "version": 3
   },
   "file_extension": ".py",
   "mimetype": "text/x-python",
   "name": "python",
   "nbconvert_exporter": "python",
   "pygments_lexer": "ipython3",
   "version": "3.6.3"
  }
 },
 "nbformat": 4,
 "nbformat_minor": 4
}
