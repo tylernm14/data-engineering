{
 "cells": [
  {
   "cell_type": "markdown",
   "metadata": {
    "editable": true
   },
   "source": [
    "## Testing notebook to explore cleaning the data"
   ]
  },
  {
   "cell_type": "code",
   "execution_count": 181,
   "metadata": {
    "editable": true
   },
   "outputs": [],
   "source": [
    "import etl\n",
    "import zipfile\n",
    "import os\n",
    "from functools import reduce\n",
    "from pyspark.sql.functions import udf, year, month, dayofmonth, weekofyear, hour, from_unixtime,\\\n",
    "                                    col, when, regexp_extract, row_number, lit, desc\n",
    "from pyspark.sql.window import Window\n",
    "from datetime import datetime\n",
    "\n",
    "import pandas as pd"
   ]
  },
  {
   "cell_type": "code",
   "execution_count": 181,
   "metadata": {
    "editable": true
   },
   "outputs": [],
   "source": [
    "pd.set_option('display.max_colwidth', 200)"
   ]
  },
  {
   "cell_type": "code",
   "execution_count": 181,
   "metadata": {
    "editable": true
   },
   "outputs": [],
   "source": [
    "spark = etl.create_spark_session()"
   ]
  },
  {
   "cell_type": "code",
   "execution_count": 186,
   "metadata": {
    "editable": true
   },
   "outputs": [],
   "source": [
    "output_dir = \"./output\"\n",
    "unzipped_logs_dir = 'log_data'\n",
    "unzipped_songs_dir = 'song_data'"
   ]
  },
  {
   "cell_type": "code",
   "execution_count": 248,
   "metadata": {
    "editable": true
   },
   "outputs": [],
   "source": [
    "import shutil\n",
    "\n",
    "if os.path.isdir(unzipped_logs_dir):\n",
    "    shutil.rmtree(unzipped_logs_dir)\n",
    "if os.path.isdir(unzipped_songs_dir):\n",
    "    shutil.rmtree(unzipped_songs_dir)"
   ]
  },
  {
   "cell_type": "code",
   "execution_count": 191,
   "metadata": {
    "editable": true
   },
   "outputs": [],
   "source": [
    "from zipfile import ZipFile\n",
    "\n",
    "\n",
    "with ZipFile('data/log-data.zip', 'r') as z:\n",
    "    z.extractall(unzipped_logs_dir)\n",
    "\n",
    "with ZipFile('data/song-data.zip', 'r') as z:\n",
    "    z.extractall('.')\n"
   ]
  },
  {
   "cell_type": "code",
   "execution_count": 192,
   "metadata": {
    "editable": true
   },
   "outputs": [],
   "source": [
    "\n",
    "log_data = spark.read.json('log_data/*.json')"
   ]
  },
  {
   "cell_type": "code",
   "execution_count": null,
   "metadata": {
    "editable": true
   },
   "outputs": [],
   "source": [
    "# import pyspark.sql.functions as f\n",
    "# from functools import reduce\n",
    "\n",
    "# log_data.where(reduce(lambda x, y: x | y, (f.col(x).rlike(r'^[\\'\\\"]{2}$') for x in log_data.columns))).toPandas()"
   ]
  },
  {
   "cell_type": "code",
   "execution_count": 193,
   "metadata": {
    "editable": true
   },
   "outputs": [],
   "source": [
    "song_data = spark.read.json('song_data/*/*/*/*/*.json')"
   ]
  },
  {
   "cell_type": "code",
   "execution_count": 194,
   "metadata": {
    "editable": true
   },
   "outputs": [
    {
     "data": {
      "text/plain": [
       "DataFrame[artist_id: string, artist_latitude: double, artist_location: string, artist_longitude: double, artist_name: string, duration: double, num_songs: bigint, song_id: string, title: string, year: bigint]"
      ]
     },
     "execution_count": 194,
     "metadata": {},
     "output_type": "execute_result"
    }
   ],
   "source": [
    "song_data.cache()"
   ]
  },
  {
   "cell_type": "code",
   "execution_count": 195,
   "metadata": {
    "editable": true
   },
   "outputs": [
    {
     "name": "stdout",
     "output_type": "stream",
     "text": [
      "root\n",
      " |-- artist_id: string (nullable = true)\n",
      " |-- artist_latitude: double (nullable = true)\n",
      " |-- artist_location: string (nullable = true)\n",
      " |-- artist_longitude: double (nullable = true)\n",
      " |-- artist_name: string (nullable = true)\n",
      " |-- duration: double (nullable = true)\n",
      " |-- num_songs: long (nullable = true)\n",
      " |-- song_id: string (nullable = true)\n",
      " |-- title: string (nullable = true)\n",
      " |-- year: long (nullable = true)\n",
      "\n"
     ]
    }
   ],
   "source": [
    "song_data.printSchema()"
   ]
  },
  {
   "cell_type": "code",
   "execution_count": 196,
   "metadata": {
    "editable": true
   },
   "outputs": [
    {
     "name": "stdout",
     "output_type": "stream",
     "text": [
      "root\n",
      " |-- artist: string (nullable = true)\n",
      " |-- auth: string (nullable = true)\n",
      " |-- firstName: string (nullable = true)\n",
      " |-- gender: string (nullable = true)\n",
      " |-- itemInSession: long (nullable = true)\n",
      " |-- lastName: string (nullable = true)\n",
      " |-- length: double (nullable = true)\n",
      " |-- level: string (nullable = true)\n",
      " |-- location: string (nullable = true)\n",
      " |-- method: string (nullable = true)\n",
      " |-- page: string (nullable = true)\n",
      " |-- registration: double (nullable = true)\n",
      " |-- sessionId: long (nullable = true)\n",
      " |-- song: string (nullable = true)\n",
      " |-- status: long (nullable = true)\n",
      " |-- ts: long (nullable = true)\n",
      " |-- userAgent: string (nullable = true)\n",
      " |-- userId: string (nullable = true)\n",
      "\n"
     ]
    }
   ],
   "source": [
    "log_data.printSchema()"
   ]
  },
  {
   "cell_type": "code",
   "execution_count": 197,
   "metadata": {
    "editable": true,
    "scrolled": true
   },
   "outputs": [],
   "source": [
    "log_data = log_data.filter(log_data.page == 'NextSong')"
   ]
  },
  {
   "cell_type": "code",
   "execution_count": 198,
   "metadata": {
    "editable": true
   },
   "outputs": [
    {
     "data": {
      "text/plain": [
       "DataFrame[artist: string, auth: string, firstName: string, gender: string, itemInSession: bigint, lastName: string, length: double, level: string, location: string, method: string, page: string, registration: double, sessionId: bigint, song: string, status: bigint, ts: bigint, userAgent: string, userId: string]"
      ]
     },
     "execution_count": 198,
     "metadata": {},
     "output_type": "execute_result"
    }
   ],
   "source": [
    "log_data.cache()"
   ]
  },
  {
   "cell_type": "markdown",
   "metadata": {
    "editable": true
   },
   "source": [
    "### Users"
   ]
  },
  {
   "cell_type": "code",
   "execution_count": 232,
   "metadata": {
    "editable": true
   },
   "outputs": [],
   "source": [
    "users = log_data.select(col('userId').alias('user_id'), col('firstName').alias('first_name'), col('lastName').alias('last_name'), col('gender'), col('level')).distinct().dropna('any')"
   ]
  },
  {
   "cell_type": "code",
   "execution_count": 233,
   "metadata": {
    "editable": true
   },
   "outputs": [
    {
     "data": {
      "text/html": [
       "<div>\n",
       "<style scoped>\n",
       "    .dataframe tbody tr th:only-of-type {\n",
       "        vertical-align: middle;\n",
       "    }\n",
       "\n",
       "    .dataframe tbody tr th {\n",
       "        vertical-align: top;\n",
       "    }\n",
       "\n",
       "    .dataframe thead th {\n",
       "        text-align: right;\n",
       "    }\n",
       "</style>\n",
       "<table border=\"1\" class=\"dataframe\">\n",
       "  <thead>\n",
       "    <tr style=\"text-align: right;\">\n",
       "      <th></th>\n",
       "      <th>user_id</th>\n",
       "      <th>first_name</th>\n",
       "      <th>last_name</th>\n",
       "      <th>gender</th>\n",
       "      <th>level</th>\n",
       "    </tr>\n",
       "  </thead>\n",
       "  <tbody>\n",
       "    <tr>\n",
       "      <th>0</th>\n",
       "      <td>26</td>\n",
       "      <td>Ryan</td>\n",
       "      <td>Smith</td>\n",
       "      <td>M</td>\n",
       "      <td>free</td>\n",
       "    </tr>\n",
       "    <tr>\n",
       "      <th>1</th>\n",
       "      <td>7</td>\n",
       "      <td>Adelyn</td>\n",
       "      <td>Jordan</td>\n",
       "      <td>F</td>\n",
       "      <td>free</td>\n",
       "    </tr>\n",
       "    <tr>\n",
       "      <th>2</th>\n",
       "      <td>71</td>\n",
       "      <td>Ayleen</td>\n",
       "      <td>Wise</td>\n",
       "      <td>F</td>\n",
       "      <td>free</td>\n",
       "    </tr>\n",
       "    <tr>\n",
       "      <th>3</th>\n",
       "      <td>81</td>\n",
       "      <td>Sienna</td>\n",
       "      <td>Colon</td>\n",
       "      <td>F</td>\n",
       "      <td>free</td>\n",
       "    </tr>\n",
       "    <tr>\n",
       "      <th>4</th>\n",
       "      <td>87</td>\n",
       "      <td>Dustin</td>\n",
       "      <td>Lee</td>\n",
       "      <td>M</td>\n",
       "      <td>free</td>\n",
       "    </tr>\n",
       "    <tr>\n",
       "      <th>5</th>\n",
       "      <td>23</td>\n",
       "      <td>Morris</td>\n",
       "      <td>Gilmore</td>\n",
       "      <td>M</td>\n",
       "      <td>free</td>\n",
       "    </tr>\n",
       "    <tr>\n",
       "      <th>6</th>\n",
       "      <td>75</td>\n",
       "      <td>Joseph</td>\n",
       "      <td>Gutierrez</td>\n",
       "      <td>M</td>\n",
       "      <td>free</td>\n",
       "    </tr>\n",
       "    <tr>\n",
       "      <th>7</th>\n",
       "      <td>16</td>\n",
       "      <td>Rylan</td>\n",
       "      <td>George</td>\n",
       "      <td>M</td>\n",
       "      <td>paid</td>\n",
       "    </tr>\n",
       "    <tr>\n",
       "      <th>8</th>\n",
       "      <td>2</td>\n",
       "      <td>Jizelle</td>\n",
       "      <td>Benjamin</td>\n",
       "      <td>F</td>\n",
       "      <td>free</td>\n",
       "    </tr>\n",
       "    <tr>\n",
       "      <th>9</th>\n",
       "      <td>3</td>\n",
       "      <td>Isaac</td>\n",
       "      <td>Valdez</td>\n",
       "      <td>M</td>\n",
       "      <td>free</td>\n",
       "    </tr>\n",
       "  </tbody>\n",
       "</table>\n",
       "</div>"
      ],
      "text/plain": [
       "  user_id first_name  last_name gender level\n",
       "0      26       Ryan      Smith      M  free\n",
       "1       7     Adelyn     Jordan      F  free\n",
       "2      71     Ayleen       Wise      F  free\n",
       "3      81     Sienna      Colon      F  free\n",
       "4      87     Dustin        Lee      M  free\n",
       "5      23     Morris    Gilmore      M  free\n",
       "6      75     Joseph  Gutierrez      M  free\n",
       "7      16      Rylan     George      M  paid\n",
       "8       2    Jizelle   Benjamin      F  free\n",
       "9       3      Isaac     Valdez      M  free"
      ]
     },
     "execution_count": 233,
     "metadata": {},
     "output_type": "execute_result"
    }
   ],
   "source": [
    "users.limit(10).toPandas()"
   ]
  },
  {
   "cell_type": "code",
   "execution_count": 234,
   "metadata": {
    "editable": true
   },
   "outputs": [],
   "source": [
    "users.write.mode('overwrite').parquet(os.path.join(output_dir, 'users'))"
   ]
  },
  {
   "cell_type": "markdown",
   "metadata": {
    "editable": true
   },
   "source": [
    "### Times"
   ]
  },
  {
   "cell_type": "code",
   "execution_count": 202,
   "metadata": {
    "editable": true
   },
   "outputs": [],
   "source": [
    "dayofweek = udf(lambda x: datetime.strptime(x, '%Y-%m-%d %H:%M:%S').strftime('%w'))\n",
    "timestamps = log_data.select('ts').distinct().withColumn('ts', from_unixtime(col('ts')/1000, 'yyyy-MM-dd HH:mm:ss'))"
   ]
  },
  {
   "cell_type": "code",
   "execution_count": 223,
   "metadata": {
    "editable": true
   },
   "outputs": [],
   "source": [
    "times = timestamps.select(col('ts').alias('start_time'), hour('ts').alias('hour'), dayofmonth('ts').alias('day'),\n",
    "                              weekofyear('ts').alias('week'), month('ts').alias('month'), year('ts').alias('year'), \n",
    "                              dayofweek(col('ts')).alias('dow')).distinct().dropna('any')"
   ]
  },
  {
   "cell_type": "code",
   "execution_count": 224,
   "metadata": {
    "editable": true
   },
   "outputs": [
    {
     "data": {
      "text/html": [
       "<div>\n",
       "<style scoped>\n",
       "    .dataframe tbody tr th:only-of-type {\n",
       "        vertical-align: middle;\n",
       "    }\n",
       "\n",
       "    .dataframe tbody tr th {\n",
       "        vertical-align: top;\n",
       "    }\n",
       "\n",
       "    .dataframe thead th {\n",
       "        text-align: right;\n",
       "    }\n",
       "</style>\n",
       "<table border=\"1\" class=\"dataframe\">\n",
       "  <thead>\n",
       "    <tr style=\"text-align: right;\">\n",
       "      <th></th>\n",
       "      <th>start_time</th>\n",
       "      <th>hour</th>\n",
       "      <th>day</th>\n",
       "      <th>week</th>\n",
       "      <th>month</th>\n",
       "      <th>year</th>\n",
       "      <th>dow</th>\n",
       "    </tr>\n",
       "  </thead>\n",
       "  <tbody>\n",
       "    <tr>\n",
       "      <th>0</th>\n",
       "      <td>2018-11-27 20:39:22</td>\n",
       "      <td>20</td>\n",
       "      <td>27</td>\n",
       "      <td>48</td>\n",
       "      <td>11</td>\n",
       "      <td>2018</td>\n",
       "      <td>2</td>\n",
       "    </tr>\n",
       "    <tr>\n",
       "      <th>1</th>\n",
       "      <td>2018-11-30 15:01:06</td>\n",
       "      <td>15</td>\n",
       "      <td>30</td>\n",
       "      <td>48</td>\n",
       "      <td>11</td>\n",
       "      <td>2018</td>\n",
       "      <td>5</td>\n",
       "    </tr>\n",
       "    <tr>\n",
       "      <th>2</th>\n",
       "      <td>2018-11-05 18:25:08</td>\n",
       "      <td>18</td>\n",
       "      <td>5</td>\n",
       "      <td>45</td>\n",
       "      <td>11</td>\n",
       "      <td>2018</td>\n",
       "      <td>1</td>\n",
       "    </tr>\n",
       "    <tr>\n",
       "      <th>3</th>\n",
       "      <td>2018-11-12 23:07:32</td>\n",
       "      <td>23</td>\n",
       "      <td>12</td>\n",
       "      <td>46</td>\n",
       "      <td>11</td>\n",
       "      <td>2018</td>\n",
       "      <td>1</td>\n",
       "    </tr>\n",
       "    <tr>\n",
       "      <th>4</th>\n",
       "      <td>2018-11-23 18:17:56</td>\n",
       "      <td>18</td>\n",
       "      <td>23</td>\n",
       "      <td>47</td>\n",
       "      <td>11</td>\n",
       "      <td>2018</td>\n",
       "      <td>5</td>\n",
       "    </tr>\n",
       "    <tr>\n",
       "      <th>5</th>\n",
       "      <td>2018-11-19 15:40:17</td>\n",
       "      <td>15</td>\n",
       "      <td>19</td>\n",
       "      <td>47</td>\n",
       "      <td>11</td>\n",
       "      <td>2018</td>\n",
       "      <td>1</td>\n",
       "    </tr>\n",
       "    <tr>\n",
       "      <th>6</th>\n",
       "      <td>2018-11-14 19:02:02</td>\n",
       "      <td>19</td>\n",
       "      <td>14</td>\n",
       "      <td>46</td>\n",
       "      <td>11</td>\n",
       "      <td>2018</td>\n",
       "      <td>3</td>\n",
       "    </tr>\n",
       "    <tr>\n",
       "      <th>7</th>\n",
       "      <td>2018-11-28 14:50:46</td>\n",
       "      <td>14</td>\n",
       "      <td>28</td>\n",
       "      <td>48</td>\n",
       "      <td>11</td>\n",
       "      <td>2018</td>\n",
       "      <td>3</td>\n",
       "    </tr>\n",
       "    <tr>\n",
       "      <th>8</th>\n",
       "      <td>2018-11-10 09:05:58</td>\n",
       "      <td>9</td>\n",
       "      <td>10</td>\n",
       "      <td>45</td>\n",
       "      <td>11</td>\n",
       "      <td>2018</td>\n",
       "      <td>6</td>\n",
       "    </tr>\n",
       "    <tr>\n",
       "      <th>9</th>\n",
       "      <td>2018-11-23 00:42:32</td>\n",
       "      <td>0</td>\n",
       "      <td>23</td>\n",
       "      <td>47</td>\n",
       "      <td>11</td>\n",
       "      <td>2018</td>\n",
       "      <td>5</td>\n",
       "    </tr>\n",
       "  </tbody>\n",
       "</table>\n",
       "</div>"
      ],
      "text/plain": [
       "            start_time  hour  day  week  month  year dow\n",
       "0  2018-11-27 20:39:22    20   27    48     11  2018   2\n",
       "1  2018-11-30 15:01:06    15   30    48     11  2018   5\n",
       "2  2018-11-05 18:25:08    18    5    45     11  2018   1\n",
       "3  2018-11-12 23:07:32    23   12    46     11  2018   1\n",
       "4  2018-11-23 18:17:56    18   23    47     11  2018   5\n",
       "5  2018-11-19 15:40:17    15   19    47     11  2018   1\n",
       "6  2018-11-14 19:02:02    19   14    46     11  2018   3\n",
       "7  2018-11-28 14:50:46    14   28    48     11  2018   3\n",
       "8  2018-11-10 09:05:58     9   10    45     11  2018   6\n",
       "9  2018-11-23 00:42:32     0   23    47     11  2018   5"
      ]
     },
     "execution_count": 224,
     "metadata": {},
     "output_type": "execute_result"
    }
   ],
   "source": [
    "times.limit(10).toPandas()"
   ]
  },
  {
   "cell_type": "code",
   "execution_count": 225,
   "metadata": {
    "editable": true
   },
   "outputs": [],
   "source": [
    "times.write.mode('overwrite').partitionBy('year', 'month').parquet(os.path.join(output_dir, 'times'))"
   ]
  },
  {
   "cell_type": "code",
   "execution_count": 244,
   "metadata": {
    "editable": true
   },
   "outputs": [
    {
     "name": "stdout",
     "output_type": "stream",
     "text": [
      "root\n",
      " |-- start_time: string (nullable = true)\n",
      " |-- hour: integer (nullable = true)\n",
      " |-- day: integer (nullable = true)\n",
      " |-- week: integer (nullable = true)\n",
      " |-- month: integer (nullable = true)\n",
      " |-- year: integer (nullable = true)\n",
      " |-- dow: string (nullable = true)\n",
      "\n"
     ]
    }
   ],
   "source": [
    "times.printSchema()"
   ]
  },
  {
   "cell_type": "markdown",
   "metadata": {
    "editable": true
   },
   "source": [
    "### Artists"
   ]
  },
  {
   "cell_type": "code",
   "execution_count": 205,
   "metadata": {
    "editable": true
   },
   "outputs": [],
   "source": [
    "\n",
    "def blank_to_null(x):\n",
    "    return when(col(x) == regexp_extract(col(x), \"(^\\\\s*$)\", 1), None).otherwise(col(x))"
   ]
  },
  {
   "cell_type": "code",
   "execution_count": 206,
   "metadata": {
    "editable": true
   },
   "outputs": [],
   "source": [
    "artist_fields = ['artist_id', 'artist_name', 'artist_location', 'artist_latitude', 'artist_longitude']\n",
    "non_nulls = ['artist_id', 'artist_name']\n",
    "artists = song_data.select(*artist_fields).distinct().withColumn('artist_location', blank_to_null('artist_location'))"
   ]
  },
  {
   "cell_type": "code",
   "execution_count": 208,
   "metadata": {
    "editable": true
   },
   "outputs": [
    {
     "data": {
      "text/html": [
       "<div>\n",
       "<style scoped>\n",
       "    .dataframe tbody tr th:only-of-type {\n",
       "        vertical-align: middle;\n",
       "    }\n",
       "\n",
       "    .dataframe tbody tr th {\n",
       "        vertical-align: top;\n",
       "    }\n",
       "\n",
       "    .dataframe thead th {\n",
       "        text-align: right;\n",
       "    }\n",
       "</style>\n",
       "<table border=\"1\" class=\"dataframe\">\n",
       "  <thead>\n",
       "    <tr style=\"text-align: right;\">\n",
       "      <th></th>\n",
       "      <th>artist_id</th>\n",
       "      <th>artist_name</th>\n",
       "      <th>artist_location</th>\n",
       "      <th>artist_latitude</th>\n",
       "      <th>artist_longitude</th>\n",
       "    </tr>\n",
       "  </thead>\n",
       "  <tbody>\n",
       "    <tr>\n",
       "      <th>0</th>\n",
       "      <td>AR3JMC51187B9AE49D</td>\n",
       "      <td>Backstreet Boys</td>\n",
       "      <td>Orlando, FL</td>\n",
       "      <td>28.53823</td>\n",
       "      <td>-81.37739</td>\n",
       "    </tr>\n",
       "    <tr>\n",
       "      <th>1</th>\n",
       "      <td>AR0IAWL1187B9A96D0</td>\n",
       "      <td>Danilo Perez</td>\n",
       "      <td>Panama</td>\n",
       "      <td>8.41770</td>\n",
       "      <td>-80.11278</td>\n",
       "    </tr>\n",
       "    <tr>\n",
       "      <th>2</th>\n",
       "      <td>ARWB3G61187FB49404</td>\n",
       "      <td>Steve Morse</td>\n",
       "      <td>Hamilton, Ohio</td>\n",
       "      <td>NaN</td>\n",
       "      <td>NaN</td>\n",
       "    </tr>\n",
       "    <tr>\n",
       "      <th>3</th>\n",
       "      <td>AR47JEX1187B995D81</td>\n",
       "      <td>SUE THOMPSON</td>\n",
       "      <td>Nevada, MO</td>\n",
       "      <td>37.83721</td>\n",
       "      <td>-94.35868</td>\n",
       "    </tr>\n",
       "    <tr>\n",
       "      <th>4</th>\n",
       "      <td>ARHHO3O1187B989413</td>\n",
       "      <td>Bob Azzam</td>\n",
       "      <td>None</td>\n",
       "      <td>NaN</td>\n",
       "      <td>NaN</td>\n",
       "    </tr>\n",
       "    <tr>\n",
       "      <th>5</th>\n",
       "      <td>ARAGB2O1187FB3A161</td>\n",
       "      <td>Pucho &amp; His Latin Soul Brothers</td>\n",
       "      <td>None</td>\n",
       "      <td>NaN</td>\n",
       "      <td>NaN</td>\n",
       "    </tr>\n",
       "    <tr>\n",
       "      <th>6</th>\n",
       "      <td>AREBBGV1187FB523D2</td>\n",
       "      <td>Mike Jones (Featuring CJ_ Mello &amp; Lil' Bran)</td>\n",
       "      <td>Houston, TX</td>\n",
       "      <td>NaN</td>\n",
       "      <td>NaN</td>\n",
       "    </tr>\n",
       "    <tr>\n",
       "      <th>7</th>\n",
       "      <td>ARGSAFR1269FB35070</td>\n",
       "      <td>Blingtones</td>\n",
       "      <td>None</td>\n",
       "      <td>NaN</td>\n",
       "      <td>NaN</td>\n",
       "    </tr>\n",
       "    <tr>\n",
       "      <th>8</th>\n",
       "      <td>AROUOZZ1187B9ABE51</td>\n",
       "      <td>Willie Bobo</td>\n",
       "      <td>New York, NY [Spanish Harlem]</td>\n",
       "      <td>40.79195</td>\n",
       "      <td>-73.94512</td>\n",
       "    </tr>\n",
       "    <tr>\n",
       "      <th>9</th>\n",
       "      <td>AR0RCMP1187FB3F427</td>\n",
       "      <td>Billie Jo Spears</td>\n",
       "      <td>Beaumont, TX</td>\n",
       "      <td>30.08615</td>\n",
       "      <td>-94.10158</td>\n",
       "    </tr>\n",
       "  </tbody>\n",
       "</table>\n",
       "</div>"
      ],
      "text/plain": [
       "            artist_id                                   artist_name  \\\n",
       "0  AR3JMC51187B9AE49D                               Backstreet Boys   \n",
       "1  AR0IAWL1187B9A96D0                                  Danilo Perez   \n",
       "2  ARWB3G61187FB49404                                   Steve Morse   \n",
       "3  AR47JEX1187B995D81                                  SUE THOMPSON   \n",
       "4  ARHHO3O1187B989413                                     Bob Azzam   \n",
       "5  ARAGB2O1187FB3A161               Pucho & His Latin Soul Brothers   \n",
       "6  AREBBGV1187FB523D2  Mike Jones (Featuring CJ_ Mello & Lil' Bran)   \n",
       "7  ARGSAFR1269FB35070                                    Blingtones   \n",
       "8  AROUOZZ1187B9ABE51                                   Willie Bobo   \n",
       "9  AR0RCMP1187FB3F427                              Billie Jo Spears   \n",
       "\n",
       "                 artist_location  artist_latitude  artist_longitude  \n",
       "0                    Orlando, FL         28.53823         -81.37739  \n",
       "1                         Panama          8.41770         -80.11278  \n",
       "2                 Hamilton, Ohio              NaN               NaN  \n",
       "3                     Nevada, MO         37.83721         -94.35868  \n",
       "4                           None              NaN               NaN  \n",
       "5                           None              NaN               NaN  \n",
       "6                    Houston, TX              NaN               NaN  \n",
       "7                           None              NaN               NaN  \n",
       "8  New York, NY [Spanish Harlem]         40.79195         -73.94512  \n",
       "9                   Beaumont, TX         30.08615         -94.10158  "
      ]
     },
     "execution_count": 208,
     "metadata": {},
     "output_type": "execute_result"
    }
   ],
   "source": [
    "artists.limit(10).toPandas()"
   ]
  },
  {
   "cell_type": "code",
   "execution_count": 209,
   "metadata": {
    "editable": true
   },
   "outputs": [],
   "source": [
    "def non_null_df(df, required_cols):\n",
    "    return df.where(reduce(lambda x, y: x & y, (col(x).isNotNull() for x in required_cols)))"
   ]
  },
  {
   "cell_type": "code",
   "execution_count": 210,
   "metadata": {
    "editable": true
   },
   "outputs": [],
   "source": [
    "non_null_artists = non_null_df(artists, non_nulls)"
   ]
  },
  {
   "cell_type": "code",
   "execution_count": 211,
   "metadata": {
    "editable": true
   },
   "outputs": [
    {
     "data": {
      "text/plain": [
       "69"
      ]
     },
     "execution_count": 211,
     "metadata": {},
     "output_type": "execute_result"
    }
   ],
   "source": [
    "non_null_artists.count()"
   ]
  },
  {
   "cell_type": "code",
   "execution_count": 212,
   "metadata": {
    "editable": true
   },
   "outputs": [],
   "source": [
    "non_null_artists.write.mode('overwrite').parquet(os.path.join(output_dir, 'artists'))"
   ]
  },
  {
   "cell_type": "markdown",
   "metadata": {
    "editable": true
   },
   "source": [
    "### Songs"
   ]
  },
  {
   "cell_type": "code",
   "execution_count": 237,
   "metadata": {
    "editable": true
   },
   "outputs": [],
   "source": [
    "song_fields = ['song_id', 'title', 'artist_id', 'year', 'duration']\n",
    "non_nulls = ['song_id', 'title', 'artist_id']\n",
    "songs = song_data.select(song_fields).fillna(0, subset=['year']).distinct()"
   ]
  },
  {
   "cell_type": "code",
   "execution_count": 238,
   "metadata": {
    "editable": true
   },
   "outputs": [
    {
     "data": {
      "text/plain": [
       "71"
      ]
     },
     "execution_count": 238,
     "metadata": {},
     "output_type": "execute_result"
    }
   ],
   "source": [
    "songs.count()"
   ]
  },
  {
   "cell_type": "code",
   "execution_count": 215,
   "metadata": {
    "editable": true
   },
   "outputs": [],
   "source": [
    "non_null_songs = non_null_df(songs, non_nulls)"
   ]
  },
  {
   "cell_type": "code",
   "execution_count": 216,
   "metadata": {
    "editable": true
   },
   "outputs": [
    {
     "data": {
      "text/plain": [
       "71"
      ]
     },
     "execution_count": 216,
     "metadata": {},
     "output_type": "execute_result"
    }
   ],
   "source": [
    "non_null_songs.count()"
   ]
  },
  {
   "cell_type": "code",
   "execution_count": 217,
   "metadata": {
    "editable": true
   },
   "outputs": [
    {
     "data": {
      "text/html": [
       "<div>\n",
       "<style scoped>\n",
       "    .dataframe tbody tr th:only-of-type {\n",
       "        vertical-align: middle;\n",
       "    }\n",
       "\n",
       "    .dataframe tbody tr th {\n",
       "        vertical-align: top;\n",
       "    }\n",
       "\n",
       "    .dataframe thead th {\n",
       "        text-align: right;\n",
       "    }\n",
       "</style>\n",
       "<table border=\"1\" class=\"dataframe\">\n",
       "  <thead>\n",
       "    <tr style=\"text-align: right;\">\n",
       "      <th></th>\n",
       "      <th>song_id</th>\n",
       "      <th>title</th>\n",
       "      <th>artist_id</th>\n",
       "      <th>year</th>\n",
       "      <th>duration</th>\n",
       "    </tr>\n",
       "  </thead>\n",
       "  <tbody>\n",
       "    <tr>\n",
       "      <th>0</th>\n",
       "      <td>SOGOSOV12AF72A285E</td>\n",
       "      <td>¿Dónde va Chichi?</td>\n",
       "      <td>ARGUVEV1187B98BA17</td>\n",
       "      <td>1997</td>\n",
       "      <td>313.12934</td>\n",
       "    </tr>\n",
       "    <tr>\n",
       "      <th>1</th>\n",
       "      <td>SOTTDKS12AB018D69B</td>\n",
       "      <td>It Wont Be Christmas</td>\n",
       "      <td>ARMBR4Y1187B9990EB</td>\n",
       "      <td>0</td>\n",
       "      <td>241.47546</td>\n",
       "    </tr>\n",
       "    <tr>\n",
       "      <th>2</th>\n",
       "      <td>SOBBUGU12A8C13E95D</td>\n",
       "      <td>Setting Fire to Sleeping Giants</td>\n",
       "      <td>ARMAC4T1187FB3FA4C</td>\n",
       "      <td>2004</td>\n",
       "      <td>207.77751</td>\n",
       "    </tr>\n",
       "    <tr>\n",
       "      <th>3</th>\n",
       "      <td>SOIAZJW12AB01853F1</td>\n",
       "      <td>Pink World</td>\n",
       "      <td>AR8ZCNI1187B9A069B</td>\n",
       "      <td>1984</td>\n",
       "      <td>269.81832</td>\n",
       "    </tr>\n",
       "    <tr>\n",
       "      <th>4</th>\n",
       "      <td>SONYPOM12A8C13B2D7</td>\n",
       "      <td>I Think My Wife Is Running Around On Me (Taco Hell)</td>\n",
       "      <td>ARDNS031187B9924F0</td>\n",
       "      <td>2005</td>\n",
       "      <td>186.48771</td>\n",
       "    </tr>\n",
       "    <tr>\n",
       "      <th>5</th>\n",
       "      <td>SOYMRWW12A6D4FAB14</td>\n",
       "      <td>The Moon And I (Ordinary Day Album Version)</td>\n",
       "      <td>ARKFYS91187B98E58F</td>\n",
       "      <td>0</td>\n",
       "      <td>267.70240</td>\n",
       "    </tr>\n",
       "    <tr>\n",
       "      <th>6</th>\n",
       "      <td>SOAOIBZ12AB01815BE</td>\n",
       "      <td>I Hold Your Hand In Mine [Live At Royal Albert Hall]</td>\n",
       "      <td>ARPBNLO1187FB3D52F</td>\n",
       "      <td>2000</td>\n",
       "      <td>43.36281</td>\n",
       "    </tr>\n",
       "    <tr>\n",
       "      <th>7</th>\n",
       "      <td>SOBCOSW12A8C13D398</td>\n",
       "      <td>Rumba De Barcelona</td>\n",
       "      <td>AR7SMBG1187B9B9066</td>\n",
       "      <td>0</td>\n",
       "      <td>218.38322</td>\n",
       "    </tr>\n",
       "    <tr>\n",
       "      <th>8</th>\n",
       "      <td>SOWTBJW12AC468AC6E</td>\n",
       "      <td>Broken-Down Merry-Go-Round</td>\n",
       "      <td>ARQGYP71187FB44566</td>\n",
       "      <td>0</td>\n",
       "      <td>151.84934</td>\n",
       "    </tr>\n",
       "    <tr>\n",
       "      <th>9</th>\n",
       "      <td>SOQHXMF12AB0182363</td>\n",
       "      <td>Young Boy Blues</td>\n",
       "      <td>ARGSJW91187B9B1D6B</td>\n",
       "      <td>0</td>\n",
       "      <td>218.77506</td>\n",
       "    </tr>\n",
       "    <tr>\n",
       "      <th>10</th>\n",
       "      <td>SOGDBUF12A8C140FAA</td>\n",
       "      <td>Intro</td>\n",
       "      <td>AR558FS1187FB45658</td>\n",
       "      <td>2003</td>\n",
       "      <td>75.67628</td>\n",
       "    </tr>\n",
       "    <tr>\n",
       "      <th>11</th>\n",
       "      <td>SOTCKKY12AB018A141</td>\n",
       "      <td>Sonnerie lalaleulé hi houuu</td>\n",
       "      <td>ARGSAFR1269FB35070</td>\n",
       "      <td>0</td>\n",
       "      <td>29.54404</td>\n",
       "    </tr>\n",
       "    <tr>\n",
       "      <th>12</th>\n",
       "      <td>SOZVMJI12AB01808AF</td>\n",
       "      <td>Synthetic Dream</td>\n",
       "      <td>ARNPAGP1241B9C7FD4</td>\n",
       "      <td>0</td>\n",
       "      <td>165.69424</td>\n",
       "    </tr>\n",
       "    <tr>\n",
       "      <th>13</th>\n",
       "      <td>SOBBXLX12A58A79DDA</td>\n",
       "      <td>Erica (2005 Digital Remaster)</td>\n",
       "      <td>AREDBBQ1187B98AFF5</td>\n",
       "      <td>0</td>\n",
       "      <td>138.63138</td>\n",
       "    </tr>\n",
       "    <tr>\n",
       "      <th>14</th>\n",
       "      <td>SOHKNRJ12A6701D1F8</td>\n",
       "      <td>Drop of Rain</td>\n",
       "      <td>AR10USD1187B99F3F1</td>\n",
       "      <td>0</td>\n",
       "      <td>189.57016</td>\n",
       "    </tr>\n",
       "    <tr>\n",
       "      <th>15</th>\n",
       "      <td>SOMJBYD12A6D4F8557</td>\n",
       "      <td>Keepin It Real (Skit)</td>\n",
       "      <td>ARD0S291187B9B7BF5</td>\n",
       "      <td>0</td>\n",
       "      <td>114.78159</td>\n",
       "    </tr>\n",
       "    <tr>\n",
       "      <th>16</th>\n",
       "      <td>SOLLHMX12AB01846DC</td>\n",
       "      <td>The Emperor Falls</td>\n",
       "      <td>AR1Y2PT1187FB5B9CE</td>\n",
       "      <td>0</td>\n",
       "      <td>484.62322</td>\n",
       "    </tr>\n",
       "    <tr>\n",
       "      <th>17</th>\n",
       "      <td>SOBZBAZ12A6D4F8742</td>\n",
       "      <td>Spanish Grease</td>\n",
       "      <td>AROUOZZ1187B9ABE51</td>\n",
       "      <td>1997</td>\n",
       "      <td>168.25424</td>\n",
       "    </tr>\n",
       "    <tr>\n",
       "      <th>18</th>\n",
       "      <td>SOINLJW12A8C13314C</td>\n",
       "      <td>City Slickers</td>\n",
       "      <td>AR8IEZO1187B99055E</td>\n",
       "      <td>2008</td>\n",
       "      <td>149.86404</td>\n",
       "    </tr>\n",
       "    <tr>\n",
       "      <th>19</th>\n",
       "      <td>SOSLAVG12A8C13397F</td>\n",
       "      <td>Den Pai Alo</td>\n",
       "      <td>AROGWRA122988FEE45</td>\n",
       "      <td>0</td>\n",
       "      <td>243.82649</td>\n",
       "    </tr>\n",
       "  </tbody>\n",
       "</table>\n",
       "</div>"
      ],
      "text/plain": [
       "               song_id                                                 title  \\\n",
       "0   SOGOSOV12AF72A285E                                     ¿Dónde va Chichi?   \n",
       "1   SOTTDKS12AB018D69B                                  It Wont Be Christmas   \n",
       "2   SOBBUGU12A8C13E95D                       Setting Fire to Sleeping Giants   \n",
       "3   SOIAZJW12AB01853F1                                            Pink World   \n",
       "4   SONYPOM12A8C13B2D7   I Think My Wife Is Running Around On Me (Taco Hell)   \n",
       "5   SOYMRWW12A6D4FAB14           The Moon And I (Ordinary Day Album Version)   \n",
       "6   SOAOIBZ12AB01815BE  I Hold Your Hand In Mine [Live At Royal Albert Hall]   \n",
       "7   SOBCOSW12A8C13D398                                    Rumba De Barcelona   \n",
       "8   SOWTBJW12AC468AC6E                            Broken-Down Merry-Go-Round   \n",
       "9   SOQHXMF12AB0182363                                       Young Boy Blues   \n",
       "10  SOGDBUF12A8C140FAA                                                 Intro   \n",
       "11  SOTCKKY12AB018A141                           Sonnerie lalaleulé hi houuu   \n",
       "12  SOZVMJI12AB01808AF                                       Synthetic Dream   \n",
       "13  SOBBXLX12A58A79DDA                         Erica (2005 Digital Remaster)   \n",
       "14  SOHKNRJ12A6701D1F8                                          Drop of Rain   \n",
       "15  SOMJBYD12A6D4F8557                                 Keepin It Real (Skit)   \n",
       "16  SOLLHMX12AB01846DC                                     The Emperor Falls   \n",
       "17  SOBZBAZ12A6D4F8742                                        Spanish Grease   \n",
       "18  SOINLJW12A8C13314C                                         City Slickers   \n",
       "19  SOSLAVG12A8C13397F                                           Den Pai Alo   \n",
       "\n",
       "             artist_id  year   duration  \n",
       "0   ARGUVEV1187B98BA17  1997  313.12934  \n",
       "1   ARMBR4Y1187B9990EB     0  241.47546  \n",
       "2   ARMAC4T1187FB3FA4C  2004  207.77751  \n",
       "3   AR8ZCNI1187B9A069B  1984  269.81832  \n",
       "4   ARDNS031187B9924F0  2005  186.48771  \n",
       "5   ARKFYS91187B98E58F     0  267.70240  \n",
       "6   ARPBNLO1187FB3D52F  2000   43.36281  \n",
       "7   AR7SMBG1187B9B9066     0  218.38322  \n",
       "8   ARQGYP71187FB44566     0  151.84934  \n",
       "9   ARGSJW91187B9B1D6B     0  218.77506  \n",
       "10  AR558FS1187FB45658  2003   75.67628  \n",
       "11  ARGSAFR1269FB35070     0   29.54404  \n",
       "12  ARNPAGP1241B9C7FD4     0  165.69424  \n",
       "13  AREDBBQ1187B98AFF5     0  138.63138  \n",
       "14  AR10USD1187B99F3F1     0  189.57016  \n",
       "15  ARD0S291187B9B7BF5     0  114.78159  \n",
       "16  AR1Y2PT1187FB5B9CE     0  484.62322  \n",
       "17  AROUOZZ1187B9ABE51  1997  168.25424  \n",
       "18  AR8IEZO1187B99055E  2008  149.86404  \n",
       "19  AROGWRA122988FEE45     0  243.82649  "
      ]
     },
     "execution_count": 217,
     "metadata": {},
     "output_type": "execute_result"
    }
   ],
   "source": [
    "non_null_songs.limit(20).toPandas()"
   ]
  },
  {
   "cell_type": "code",
   "execution_count": 218,
   "metadata": {
    "editable": true
   },
   "outputs": [],
   "source": [
    "non_null_songs.write.mode('overwrite').partitionBy('year', 'artist_id').parquet(os.path.join(output_dir, 'songs'))"
   ]
  },
  {
   "cell_type": "markdown",
   "metadata": {
    "editable": true
   },
   "source": [
    "### Songsplays"
   ]
  },
  {
   "cell_type": "code",
   "execution_count": 219,
   "metadata": {
    "editable": true
   },
   "outputs": [],
   "source": [
    "joined_data = log_data.join(song_data, (log_data.song == song_data.title) & (log_data.artist == song_data.artist_name))"
   ]
  },
  {
   "cell_type": "code",
   "execution_count": 220,
   "metadata": {
    "editable": true
   },
   "outputs": [],
   "source": [
    "w = Window.orderBy(desc('start_time'))\n",
    "\n",
    "songplays = joined_data.select(col('ts'), col('userId').alias('user_id'), col('level'), col('song_id'), col('artist_id'),\\\n",
    "                               col('sessionId').alias('session_id'), col('location'), col('userAgent').alias('user_agent'))\\\n",
    "            .withColumn('start_time', from_unixtime(col('ts')/1000, 'yyyy-MM-dd HH:mm:ss'))\\\n",
    "            .withColumn('year', year(col('start_time')))\\\n",
    "            .withColumn('month', month(col('start_time')))\\\n",
    "            .drop('ts')\\\n",
    "            .distinct()\\\n",
    "            .withColumn('sonplay_id', row_number().over(w)).repartition('year', 'month')"
   ]
  },
  {
   "cell_type": "code",
   "execution_count": 221,
   "metadata": {
    "editable": true
   },
   "outputs": [
    {
     "data": {
      "text/html": [
       "<div>\n",
       "<style scoped>\n",
       "    .dataframe tbody tr th:only-of-type {\n",
       "        vertical-align: middle;\n",
       "    }\n",
       "\n",
       "    .dataframe tbody tr th {\n",
       "        vertical-align: top;\n",
       "    }\n",
       "\n",
       "    .dataframe thead th {\n",
       "        text-align: right;\n",
       "    }\n",
       "</style>\n",
       "<table border=\"1\" class=\"dataframe\">\n",
       "  <thead>\n",
       "    <tr style=\"text-align: right;\">\n",
       "      <th></th>\n",
       "      <th>user_id</th>\n",
       "      <th>level</th>\n",
       "      <th>song_id</th>\n",
       "      <th>artist_id</th>\n",
       "      <th>session_id</th>\n",
       "      <th>location</th>\n",
       "      <th>user_agent</th>\n",
       "      <th>start_time</th>\n",
       "      <th>year</th>\n",
       "      <th>month</th>\n",
       "      <th>sonplay_id</th>\n",
       "    </tr>\n",
       "  </thead>\n",
       "  <tbody>\n",
       "    <tr>\n",
       "      <th>0</th>\n",
       "      <td>15</td>\n",
       "      <td>paid</td>\n",
       "      <td>SOZCTXZ12AB0182364</td>\n",
       "      <td>AR5KOSW1187FB35FF4</td>\n",
       "      <td>818</td>\n",
       "      <td>Chicago-Naperville-Elgin, IL-IN-WI</td>\n",
       "      <td>\"Mozilla/5.0 (X11; Linux x86_64) AppleWebKit/537.36 (KHTML, like Gecko) Ubuntu Chromium/36.0.1985.125 Chrome/36.0.1985.125 Safari/537.36\"</td>\n",
       "      <td>2018-11-21 21:56:47</td>\n",
       "      <td>2018</td>\n",
       "      <td>11</td>\n",
       "      <td>1</td>\n",
       "    </tr>\n",
       "  </tbody>\n",
       "</table>\n",
       "</div>"
      ],
      "text/plain": [
       "  user_id level             song_id           artist_id  session_id  \\\n",
       "0      15  paid  SOZCTXZ12AB0182364  AR5KOSW1187FB35FF4         818   \n",
       "\n",
       "                             location  \\\n",
       "0  Chicago-Naperville-Elgin, IL-IN-WI   \n",
       "\n",
       "                                                                                                                                  user_agent  \\\n",
       "0  \"Mozilla/5.0 (X11; Linux x86_64) AppleWebKit/537.36 (KHTML, like Gecko) Ubuntu Chromium/36.0.1985.125 Chrome/36.0.1985.125 Safari/537.36\"   \n",
       "\n",
       "            start_time  year  month  sonplay_id  \n",
       "0  2018-11-21 21:56:47  2018     11           1  "
      ]
     },
     "execution_count": 221,
     "metadata": {},
     "output_type": "execute_result"
    }
   ],
   "source": [
    "songplays.toPandas()"
   ]
  },
  {
   "cell_type": "code",
   "execution_count": 222,
   "metadata": {
    "editable": true
   },
   "outputs": [],
   "source": [
    "songplays.write.mode('overwrite').partitionBy('year', 'month').parquet(os.path.join(output_dir, 'songplays'))"
   ]
  },
  {
   "cell_type": "code",
   "execution_count": 247,
   "metadata": {
    "editable": true
   },
   "outputs": [],
   "source": [
    "import shutil\n",
    "shutil.rmtree(output_dir)"
   ]
  },
  {
   "cell_type": "code",
   "execution_count": null,
   "metadata": {
    "editable": true
   },
   "outputs": [],
   "source": []
  }
 ],
 "metadata": {
  "kernelspec": {
   "display_name": "Python 3",
   "language": "python",
   "name": "python3"
  },
  "language_info": {
   "codemirror_mode": {
    "name": "ipython",
    "version": 3
   },
   "file_extension": ".py",
   "mimetype": "text/x-python",
   "name": "python",
   "nbconvert_exporter": "python",
   "pygments_lexer": "ipython3",
   "version": "3.6.3"
  }
 },
 "nbformat": 4,
 "nbformat_minor": 4
}
